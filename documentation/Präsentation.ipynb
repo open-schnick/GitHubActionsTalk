{
 "cells": [
  {
   "cell_type": "markdown",
   "metadata": {
    "slideshow": {
     "slide_type": "slide"
    }
   },
   "source": [
    "![image](assets/githubactions.png)\n",
    "\n",
    "# Github CI/CD\n",
    "\n",
    "## Github Actions"
   ]
  },
  {
   "cell_type": "markdown",
   "metadata": {
    "slideshow": {
     "slide_type": "slide"
    }
   },
   "source": [
    "# Einstieg\n"
   ]
  },
  {
   "cell_type": "markdown",
   "metadata": {
    "slideshow": {
     "slide_type": "subslide"
    }
   },
   "source": [
    "## Kurzes Feedback\n",
    "**Wer von euch hat schonmal von CI/CD oder Pipelines gehört?**"
   ]
  },
  {
   "cell_type": "markdown",
   "metadata": {
    "slideshow": {
     "slide_type": "fragment"
    }
   },
   "source": [
    "Strawpoll: TBD"
   ]
  },
  {
   "cell_type": "markdown",
   "metadata": {
    "slideshow": {
     "slide_type": "subslide"
    }
   },
   "source": [
    "# Ergebnisse"
   ]
  },
  {
   "cell_type": "code",
   "execution_count": 8,
   "metadata": {
    "scrolled": false,
    "slideshow": {
     "slide_type": "fragment"
    }
   },
   "outputs": [
    {
     "data": {
      "text/html": [
       "\n",
       "        <iframe\n",
       "            width=\"700px\"\n",
       "            height=\"400px\"\n",
       "            src=\"http://www.strawpoll.me/embed_1/21174104/r\"\n",
       "            frameborder=\"0\"\n",
       "            allowfullscreen\n",
       "        ></iframe>\n",
       "        "
      ],
      "text/plain": [
       "<IPython.lib.display.IFrame at 0x7fd20c2af460>"
      ]
     },
     "metadata": {},
     "output_type": "display_data"
    }
   ],
   "source": [
    "from IPython.display import IFrame\n",
    "from IPython.core.display import display\n",
    "\n",
    "display(IFrame('http://www.strawpoll.me/embed_1/21174104/r', '700px', '400px'))"
   ]
  },
  {
   "cell_type": "markdown",
   "metadata": {
    "slideshow": {
     "slide_type": "slide"
    }
   },
   "source": [
    "# Wie entwickelt man Software?"
   ]
  },
  {
   "cell_type": "markdown",
   "metadata": {
    "slideshow": {
     "slide_type": "fragment"
    }
   },
   "source": [
    "Code schreiben"
   ]
  },
  {
   "cell_type": "markdown",
   "metadata": {
    "slideshow": {
     "slide_type": "fragment"
    }
   },
   "source": [
    "Code kompilieren"
   ]
  },
  {
   "cell_type": "markdown",
   "metadata": {
    "slideshow": {
     "slide_type": "fragment"
    }
   },
   "source": [
    "Code bündeln"
   ]
  },
  {
   "cell_type": "markdown",
   "metadata": {
    "slideshow": {
     "slide_type": "fragment"
    }
   },
   "source": [
    "Anwendung auf Stick an Kunden geben"
   ]
  },
  {
   "cell_type": "markdown",
   "metadata": {
    "slideshow": {
     "slide_type": "fragment"
    }
   },
   "source": [
    "Des Ganze für jeden Commit oder jedes neue Feature"
   ]
  },
  {
   "cell_type": "markdown",
   "metadata": {
    "slideshow": {
     "slide_type": "subslide"
    }
   },
   "source": [
    "## Geht das auch besser?"
   ]
  },
  {
   "cell_type": "markdown",
   "metadata": {
    "slideshow": {
     "slide_type": "fragment"
    }
   },
   "source": [
    "Die Abläufe der Schritte ändern sich nicht."
   ]
  },
  {
   "cell_type": "markdown",
   "metadata": {
    "slideshow": {
     "slide_type": "fragment"
    }
   },
   "source": [
    "Automatisierung bietet sich an."
   ]
  },
  {
   "cell_type": "markdown",
   "metadata": {
    "slideshow": {
     "slide_type": "slide"
    }
   },
   "source": [
    "# CI/CD"
   ]
  },
  {
   "cell_type": "markdown",
   "metadata": {
    "slideshow": {
     "slide_type": "subslide"
    }
   },
   "source": [
    "# Definition"
   ]
  },
  {
   "cell_type": "markdown",
   "metadata": {
    "slideshow": {
     "slide_type": "fragment"
    }
   },
   "source": [
    "**CI/CD** = \"Continous integration, continous delivery\""
   ]
  },
  {
   "cell_type": "markdown",
   "metadata": {
    "slideshow": {
     "slide_type": "fragment"
    }
   },
   "source": [
    "Philosophie um Software als Team zu entwickeln"
   ]
  },
  {
   "cell_type": "markdown",
   "metadata": {
    "slideshow": {
     "slide_type": "fragment"
    }
   },
   "source": [
    "Ziel: Redundante Arbeitsschritte zu eliminieren"
   ]
  },
  {
   "cell_type": "markdown",
   "metadata": {
    "slideshow": {
     "slide_type": "fragment"
    }
   },
   "source": [
    "Vorteil: Zeit der Entwickler/innen kann zum eigentlichen Schreiben verwendet werden"
   ]
  },
  {
   "cell_type": "markdown",
   "metadata": {
    "slideshow": {
     "slide_type": "subslide"
    }
   },
   "source": [
    "## CI"
   ]
  },
  {
   "cell_type": "markdown",
   "metadata": {
    "slideshow": {
     "slide_type": "fragment"
    }
   },
   "source": [
    "Compilen: \"Nach Fehlermeldungen des Compilers schauen\""
   ]
  },
  {
   "cell_type": "markdown",
   "metadata": {
    "slideshow": {
     "slide_type": "fragment"
    }
   },
   "source": [
    "Testen: \"Unittests starten\""
   ]
  },
  {
   "cell_type": "markdown",
   "metadata": {
    "slideshow": {
     "slide_type": "fragment"
    }
   },
   "source": [
    "Builden: \"Den Code komprimieren\""
   ]
  },
  {
   "cell_type": "markdown",
   "metadata": {
    "slideshow": {
     "slide_type": "subslide"
    }
   },
   "source": [
    "## CD"
   ]
  },
  {
   "cell_type": "markdown",
   "metadata": {
    "slideshow": {
     "slide_type": "fragment"
    }
   },
   "source": [
    "Deployement: \"Software auf verschiedene Umgebungen verteilen und starten\""
   ]
  },
  {
   "cell_type": "markdown",
   "metadata": {
    "slideshow": {
     "slide_type": "subslide"
    }
   },
   "source": [
    "## Pipelines"
   ]
  },
  {
   "cell_type": "markdown",
   "metadata": {
    "slideshow": {
     "slide_type": "fragment"
    }
   },
   "source": [
    "Umsetzung der CI/CD Automatisierung"
   ]
  },
  {
   "cell_type": "markdown",
   "metadata": {
    "slideshow": {
     "slide_type": "fragment"
    }
   },
   "source": [
    "Verbindung von Version-Controlling mit CI/CD"
   ]
  },
  {
   "cell_type": "markdown",
   "metadata": {
    "slideshow": {
     "slide_type": "fragment"
    }
   },
   "source": [
    "Script welches in einer VM (Runner) ausgeführt wird"
   ]
  },
  {
   "cell_type": "markdown",
   "metadata": {
    "slideshow": {
     "slide_type": "fragment"
    }
   },
   "source": [
    "Script ist typischerweise im YAML Format (Yet Another Markup Language)"
   ]
  },
  {
   "cell_type": "markdown",
   "metadata": {
    "slideshow": {
     "slide_type": "fragment"
    }
   },
   "source": [
    "Verwendet die aktuelle Codebase"
   ]
  },
  {
   "cell_type": "markdown",
   "metadata": {
    "slideshow": {
     "slide_type": "slide"
    }
   },
   "source": [
    "# CI/CD mit GitHub - GitHub Actions"
   ]
  },
  {
   "cell_type": "markdown",
   "metadata": {
    "slideshow": {
     "slide_type": "fragment"
    }
   },
   "source": [
    "Eine Pipeline bei GitHub heißt Workflow"
   ]
  },
  {
   "cell_type": "markdown",
   "metadata": {},
   "source": [
    "Gibts noch nicht lange, ca 1 Jahr."
   ]
  },
  {
   "cell_type": "markdown",
   "metadata": {},
   "source": [
    "Bei einem \"free\" Account auf Github bekommt man 2000 Minuten / Monat."
   ]
  },
  {
   "cell_type": "markdown",
   "metadata": {},
   "source": [
    "Es gibt auch die Möglichkeit \"Self-Hosted-Runner\" zu verwenden"
   ]
  },
  {
   "cell_type": "markdown",
   "metadata": {
    "slideshow": {
     "slide_type": "subslide"
    }
   },
   "source": [
    "## Aufbau"
   ]
  },
  {
   "cell_type": "markdown",
   "metadata": {
    "slideshow": {
     "slide_type": "subslide"
    }
   },
   "source": [
    "### Events"
   ]
  },
  {
   "cell_type": "markdown",
   "metadata": {
    "slideshow": {
     "slide_type": "fragment"
    }
   },
   "source": [
    "Mögliche Aktivitäten bei GitHub, lösen Workflows aus."
   ]
  },
  {
   "cell_type": "markdown",
   "metadata": {
    "slideshow": {
     "slide_type": "fragment"
    }
   },
   "source": [
    "Beispiele:\n",
    "* Push\n",
    "* Commit\n",
    "* PR create / open / update\n",
    "* Alle Events: https://docs.github.com/en/free-pro-team@latest/actions/reference/events-that-trigger-workflows"
   ]
  },
  {
   "cell_type": "markdown",
   "metadata": {
    "slideshow": {
     "slide_type": "fragment"
    }
   },
   "source": [
    "Events sind durch ein logischer \"ODER\" verknüpft."
   ]
  },
  {
   "cell_type": "markdown",
   "metadata": {
    "slideshow": {
     "slide_type": "subslide"
    }
   },
   "source": [
    "```YML\n",
    "\n",
    "    # This is just a name\n",
    "    \n",
    "    \n",
    "    name: DummyWorkflow\n",
    "\n",
    "\n",
    "    # Specifies the events that trigger this workflow.\n",
    "\n",
    "    \n",
    "    on: push\n",
    "\n",
    "\n",
    "```"
   ]
  },
  {
   "cell_type": "markdown",
   "metadata": {
    "slideshow": {
     "slide_type": "subslide"
    }
   },
   "source": [
    "```YML\n",
    "\n",
    "    # This is just a name\n",
    "    \n",
    "    \n",
    "    name: DummyWorkflow\n",
    "\n",
    "\n",
    "    # Specifies the events that trigger this workflow.\n",
    "\n",
    "\n",
    "    on: \n",
    "      \n",
    "      push:\n",
    "      \n",
    "      pull_request:\n",
    "      \n",
    "\n",
    "\n",
    "```"
   ]
  },
  {
   "cell_type": "markdown",
   "metadata": {
    "slideshow": {
     "slide_type": "subslide"
    }
   },
   "source": [
    "```YML\n",
    "\n",
    "    # This is just a name\n",
    "    \n",
    "    \n",
    "    name: DummyWorkflow\n",
    "\n",
    "\n",
    "    # Specifies the events that trigger this workflow.\n",
    "\n",
    "\n",
    "    on: [push, pull_request]\n",
    "      \n",
    "\n",
    "\n",
    "```"
   ]
  },
  {
   "cell_type": "markdown",
   "metadata": {
    "slideshow": {
     "slide_type": "subslide"
    }
   },
   "source": [
    "Besonderheit: \"workflow_dispatch\""
   ]
  },
  {
   "cell_type": "markdown",
   "metadata": {
    "slideshow": {
     "slide_type": "fragment"
    }
   },
   "source": [
    "```YML\n",
    "\n",
    "    name: Create new release\n",
    "    \n",
    "\n",
    "    on: \n",
    "    \n",
    "      workflow_dispatch:\n",
    "        \n",
    "        inputs:\n",
    "          \n",
    "          tag:\n",
    "            \n",
    "            description: 'Tag for new Release'     \n",
    "            \n",
    "            required: true\n",
    "            \n",
    "            default: 'v1.0'\n",
    "            \n",
    "            \n",
    "\n",
    "```"
   ]
  },
  {
   "cell_type": "markdown",
   "metadata": {
    "slideshow": {
     "slide_type": "subslide"
    }
   },
   "source": [
    "![workflow_dispatch](assets/workflow_dispatch.png)"
   ]
  },
  {
   "cell_type": "markdown",
   "metadata": {
    "slideshow": {
     "slide_type": "subslide"
    }
   },
   "source": [
    "#### Eventbedingungen"
   ]
  },
  {
   "cell_type": "markdown",
   "metadata": {
    "slideshow": {
     "slide_type": "fragment"
    }
   },
   "source": [
    "Die Events können nochmal genauer spezifiziert werden."
   ]
  },
  {
   "cell_type": "markdown",
   "metadata": {
    "slideshow": {
     "slide_type": "fragment"
    }
   },
   "source": [
    "Das hängt von dem Event ab."
   ]
  },
  {
   "cell_type": "markdown",
   "metadata": {
    "slideshow": {
     "slide_type": "fragment"
    }
   },
   "source": [
    "Die Eventbedingungen sind durch ein logisches \"UND\" verknüpft."
   ]
  },
  {
   "cell_type": "markdown",
   "metadata": {
    "slideshow": {
     "slide_type": "subslide"
    }
   },
   "source": [
    "```YML\n",
    "\n",
    "    # This is just a name\n",
    "    \n",
    "    \n",
    "    name: WorkFlowOnMaster\n",
    "\n",
    "\n",
    "    # This workflow only triggers when a push on master happens.\n",
    "\n",
    "    \n",
    "    on: \n",
    "    \n",
    "      push:\n",
    "        \n",
    "        branches: [ master ]\n",
    "        \n",
    "\n",
    "```"
   ]
  },
  {
   "cell_type": "markdown",
   "metadata": {
    "slideshow": {
     "slide_type": "subslide"
    }
   },
   "source": [
    "```YML\n",
    "\n",
    "    # This is just a name\n",
    "    \n",
    "    \n",
    "    name: WorkFlowOnMasterAnSrcChange\n",
    "\n",
    "\n",
    "    # This workflow only triggers when a push on master happens AND files in src/** have changed.\n",
    "\n",
    "    \n",
    "    on: \n",
    "    \n",
    "      push:\n",
    "        \n",
    "        branches: [ master ]\n",
    "        \n",
    "        files: \n",
    "          - \"src/**\"\n",
    "          - \"some ressource\"\n",
    "        \n",
    "\n",
    "```"
   ]
  },
  {
   "cell_type": "markdown",
   "metadata": {
    "slideshow": {
     "slide_type": "subslide"
    }
   },
   "source": [
    "## Jobs"
   ]
  },
  {
   "cell_type": "markdown",
   "metadata": {
    "slideshow": {
     "slide_type": "fragment"
    }
   },
   "source": [
    "Jeder Job wird auf einer anderen VM ausgeführt. -> kein \"Shared State\" zwischen Jobs."
   ]
  },
  {
   "cell_type": "markdown",
   "metadata": {
    "slideshow": {
     "slide_type": "fragment"
    }
   },
   "source": [
    "Dadurch ist es möglich auf verschiedenen Betriebssystemen zu arbeiten."
   ]
  },
  {
   "cell_type": "markdown",
   "metadata": {
    "slideshow": {
     "slide_type": "fragment"
    }
   },
   "source": [
    "Bestehen aus:\n",
    "* Namen\n",
    "* Dem Betriebssystem\n",
    "* Den Arbeitsschritten"
   ]
  },
  {
   "cell_type": "markdown",
   "metadata": {
    "slideshow": {
     "slide_type": "subslide"
    }
   },
   "source": [
    "```YML\n",
    "\n",
    "    # This is just a name\n",
    "    \n",
    "    \n",
    "    name: DummyWorkflow\n",
    "\n",
    "    \n",
    "    on: push\n",
    "    \n",
    "    \n",
    "    jobs:\n",
    "    \n",
    "      dummy-job-name:\n",
    "      \n",
    "        runs-on: ubuntu-latest\n",
    "    \n",
    "        steps:\n",
    "        \n",
    "        # Do something.\n",
    "        \n",
    "        \n",
    "\n",
    "```"
   ]
  },
  {
   "cell_type": "markdown",
   "metadata": {
    "slideshow": {
     "slide_type": "subslide"
    }
   },
   "source": [
    "## Steps"
   ]
  },
  {
   "cell_type": "markdown",
   "metadata": {
    "slideshow": {
     "slide_type": "fragment"
    }
   },
   "source": [
    "Enthalten die eigentlichen Arbeitsschritte."
   ]
  },
  {
   "cell_type": "markdown",
   "metadata": {},
   "source": [
    "Die Schritte werden in der VM im Terminal ausgeführt"
   ]
  },
  {
   "cell_type": "markdown",
   "metadata": {},
   "source": [
    "Daher kann man auf Linux Runnern einfach Bash / Shell Script verwenden."
   ]
  },
  {
   "cell_type": "markdown",
   "metadata": {
    "slideshow": {
     "slide_type": "fragment"
    }
   },
   "source": [
    "Schritte werden durch \"-\" getrennt"
   ]
  },
  {
   "cell_type": "markdown",
   "metadata": {
    "slideshow": {
     "slide_type": "fragment"
    }
   },
   "source": [
    "Jeder Schritt hat einen Namen."
   ]
  },
  {
   "cell_type": "markdown",
   "metadata": {
    "slideshow": {
     "slide_type": "subslide"
    }
   },
   "source": [
    "```YML\n",
    "\n",
    "    # This is just a name\n",
    "    \n",
    "    \n",
    "    name: DummyWorkflow\n",
    "\n",
    "    \n",
    "    on: push\n",
    "    \n",
    "    \n",
    "    jobs:\n",
    "    \n",
    "      dummy-job-name:\n",
    "      \n",
    "        runs-on: ubuntu-latest\n",
    "    \n",
    "        steps:\n",
    "        \n",
    "          -\n",
    "        \n",
    "            name: DummyStep\n",
    "          \n",
    "            run: echo \"hello world!\"\n",
    "        \n",
    "          -\n",
    "        \n",
    "          # More steps...\n",
    "        \n",
    "\n",
    "```"
   ]
  },
  {
   "cell_type": "markdown",
   "metadata": {
    "slideshow": {
     "slide_type": "subslide"
    }
   },
   "source": [
    "```YML\n",
    "  \n",
    "    \n",
    "    name: DummyWorkflow\n",
    "\n",
    "    \n",
    "    on: push\n",
    "    \n",
    "    \n",
    "    jobs:\n",
    "    \n",
    "      dummy-job-name:\n",
    "      \n",
    "        runs-on: ubuntu-latest\n",
    "    \n",
    "        steps:\n",
    "        \n",
    "      \n",
    "          # Here are some more steps.\n",
    "\n",
    "\n",
    "          -\n",
    "\n",
    "            name: Run all Tests.\n",
    "\n",
    "            run: |\n",
    "              \n",
    "              mvn clean test -f pom.xml\n",
    "                \n",
    "              mvn clean package -f pom.xml\n",
    "              \n",
    "              # more commands\n",
    "               \n",
    "          -\n",
    "\n",
    "            name: Upload Coverage to codecov.io.\n",
    "\n",
    "            run: bash <(curl -s https://codecov.io/bash) -Z\n",
    "\n",
    "\n",
    "\n",
    "```"
   ]
  },
  {
   "cell_type": "markdown",
   "metadata": {
    "slideshow": {
     "slide_type": "subslide"
    }
   },
   "source": [
    "## Actions"
   ]
  },
  {
   "cell_type": "markdown",
   "metadata": {
    "slideshow": {
     "slide_type": "fragment"
    }
   },
   "source": [
    "Anstelle alles von Hand zu programmieren kann man auch \"Actions\" einbinden"
   ]
  },
  {
   "cell_type": "markdown",
   "metadata": {
    "slideshow": {
     "slide_type": "fragment"
    }
   },
   "source": [
    "Actions sind vordefinierte Steps entweder von GitHub oder anderen Nutzern"
   ]
  },
  {
   "cell_type": "markdown",
   "metadata": {
    "slideshow": {
     "slide_type": "fragment"
    }
   },
   "source": [
    "Actions können mit dem Codewort \"uses\" eingebunden werden"
   ]
  },
  {
   "cell_type": "markdown",
   "metadata": {
    "slideshow": {
     "slide_type": "subslide"
    }
   },
   "source": [
    "```YML\n",
    "  \n",
    "    \n",
    "    name: DummyWorkflow\n",
    "\n",
    "    \n",
    "    on: push\n",
    "    \n",
    "    \n",
    "    jobs:\n",
    "    \n",
    "      dummy-job-name:\n",
    "      \n",
    "        runs-on: ubuntu-latest\n",
    "    \n",
    "        steps:\n",
    "        \n",
    "          -\n",
    "          \n",
    "            name: Get Code from Repository\n",
    "            \n",
    "            uses: actions/checkout@v1\n",
    "\n",
    "          -\n",
    "          \n",
    "            name: Set up JDK\n",
    "            \n",
    "            uses: actions/setup-java@v1\n",
    "            \n",
    "            with:\n",
    "              \n",
    "              java-version: '11.0.8'\n",
    "              \n",
    "              architecture: x64\n",
    "          \n",
    "          -\n",
    "\n",
    "            name: Do something in Java\n",
    "            \n",
    "            run: # Do something.\n",
    "        \n",
    "        \n",
    "\n",
    "```"
   ]
  },
  {
   "cell_type": "markdown",
   "metadata": {
    "slideshow": {
     "slide_type": "slide"
    }
   },
   "source": [
    "# Nützliches"
   ]
  },
  {
   "cell_type": "markdown",
   "metadata": {
    "slideshow": {
     "slide_type": "subslide"
    }
   },
   "source": [
    "## Secrets"
   ]
  },
  {
   "cell_type": "markdown",
   "metadata": {
    "slideshow": {
     "slide_type": "fragment"
    }
   },
   "source": [
    "In einem Workflow müssen Passwörter / Tokens nicht im Klartext stehen"
   ]
  },
  {
   "cell_type": "markdown",
   "metadata": {
    "slideshow": {
     "slide_type": "subslide"
    }
   },
   "source": [
    "```YML\n",
    "\n",
    "        name: Login to DockerHub\n",
    "        \n",
    "        uses: docker/login-action@v1\n",
    "        \n",
    "        with:\n",
    "        \n",
    "          username: ${{ secrets.DOCKER_USER }}\n",
    "          \n",
    "          password: ${{ secrets.DOCKER_PW }}\n",
    "\n",
    "\n",
    "```"
   ]
  },
  {
   "cell_type": "markdown",
   "metadata": {
    "slideshow": {
     "slide_type": "subslide"
    }
   },
   "source": [
    "![secrets](assets/secrets.png)"
   ]
  },
  {
   "cell_type": "markdown",
   "metadata": {
    "slideshow": {
     "slide_type": "subslide"
    }
   },
   "source": [
    "## Badges"
   ]
  },
  {
   "cell_type": "markdown",
   "metadata": {
    "slideshow": {
     "slide_type": "fragment"
    }
   },
   "source": [
    "Man kann den Status eines Workflows mit einem Badge, in Markdown o.ä, darstellen"
   ]
  },
  {
   "cell_type": "markdown",
   "metadata": {
    "slideshow": {
     "slide_type": "fragment"
    }
   },
   "source": [
    "![create-badge](assets/createBadge.png)"
   ]
  },
  {
   "cell_type": "markdown",
   "metadata": {
    "slideshow": {
     "slide_type": "fragment"
    }
   },
   "source": [
    "<img src=\"assets/badge.png\" alt=\"badge\" height=\"15px\" width=\"250px\">"
   ]
  },
  {
   "cell_type": "markdown",
   "metadata": {
    "slideshow": {
     "slide_type": "subslide"
    }
   },
   "source": [
    "## Variablen"
   ]
  },
  {
   "cell_type": "markdown",
   "metadata": {
    "slideshow": {
     "slide_type": "fragment"
    }
   },
   "source": [
    "Variablen können wie im ausgewählten Betriebssystem verwendet werden."
   ]
  },
  {
   "cell_type": "markdown",
   "metadata": {
    "slideshow": {
     "slide_type": "subslide"
    }
   },
   "source": [
    "```YML\n",
    "  \n",
    "    \n",
    "    name: DummyWorkflow\n",
    "\n",
    "    \n",
    "    on: push\n",
    "    \n",
    "    \n",
    "    jobs:\n",
    "    \n",
    "      dummy-job-name:\n",
    "      \n",
    "        runs-on: ubuntu-latest\n",
    "    \n",
    "        steps:\n",
    "        \n",
    "          -\n",
    "          \n",
    "            name: Get Git version\n",
    "            \n",
    "            run: |\n",
    "            \n",
    "              GIT_VERSION=\"$(echo $(git --version))\"\n",
    "              \n",
    "              echo $GIT_VERSION\n",
    "          \n",
    "        \n",
    "        \n",
    "\n",
    "```"
   ]
  },
  {
   "cell_type": "markdown",
   "metadata": {
    "slideshow": {
     "slide_type": "fragment"
    }
   },
   "source": [
    "```shell script\n",
    "\n",
    "git version 2.25.1\n",
    "\n",
    "\n",
    "```"
   ]
  }
 ],
 "metadata": {
  "celltoolbar": "Slideshow",
  "kernelspec": {
   "display_name": "Python 3",
   "language": "python",
   "name": "python3"
  },
  "language_info": {
   "codemirror_mode": {
    "name": "ipython",
    "version": 3
   },
   "file_extension": ".py",
   "mimetype": "text/x-python",
   "name": "python",
   "nbconvert_exporter": "python",
   "pygments_lexer": "ipython3",
   "version": "3.8.3"
  },
  "rise": {
   "theme": "none",
   "transition": "slide"
  }
 },
 "nbformat": 4,
 "nbformat_minor": 4
}
